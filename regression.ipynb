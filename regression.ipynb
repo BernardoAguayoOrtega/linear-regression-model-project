{
 "cells": [
  {
   "cell_type": "markdown",
   "metadata": {},
   "source": [
    "# Project Overview\n",
    "\n",
    "The English Premier League is one of the world's most-watched soccer leagues, with an estimated audience of 12 million people per game.\n",
    "With the substantial financial benefits, all significant teams of EPL are interested in Analytics and AI. Regarding sports analytics, machine learning and artificial intelligence (AI) have become extremely popular. The sports entertainment sector and the relevant stakeholders extensively use sophisticated algorithms to improve earnings and reduce business risk associated with selecting or betting on the wrong players."
   ]
  },
  {
   "cell_type": "markdown",
   "metadata": {},
   "source": [
    "Regression is one of the foundational techniques in Machine Learning. As one of the most well-understood algorithms, linear regression plays a vital role in solving real-life problems.\n",
    "In this project, we wish to use Linear Regression to predict the scores of EPL soccer players.\n",
    "With the business implications cleared. Let's get into the project's technical details."
   ]
  },
  {
   "cell_type": "markdown",
   "metadata": {},
   "source": [
    "# Install Packages"
   ]
  },
  {
   "cell_type": "code",
   "execution_count": 1,
   "metadata": {},
   "outputs": [],
   "source": [
    "import warnings\n",
    "warnings.filterwarnings('ignore')"
   ]
  },
  {
   "cell_type": "code",
   "execution_count": 3,
   "metadata": {},
   "outputs": [
    {
     "name": "stdout",
     "output_type": "stream",
     "text": [
      "Found existing installation: numpy 2.0.1\n",
      "Uninstalling numpy-2.0.1:\n",
      "  Successfully uninstalled numpy-2.0.1\n",
      "Found existing installation: seaborn 0.11.1\n",
      "Uninstalling seaborn-0.11.1:\n",
      "  Successfully uninstalled seaborn-0.11.1\n",
      "Found existing installation: matplotlib 3.3.4\n",
      "Uninstalling matplotlib-3.3.4:\n",
      "  Successfully uninstalled matplotlib-3.3.4\n",
      "\u001b[33mWARNING: Skipping statsmodels as it is not installed.\u001b[0m\u001b[33m\n",
      "\u001b[0mFound existing installation: pandas 2.2.2\n",
      "Uninstalling pandas-2.2.2:\n",
      "  Successfully uninstalled pandas-2.2.2\n",
      "Found existing installation: scipy 1.14.0\n",
      "Uninstalling scipy-1.14.0:\n",
      "  Successfully uninstalled scipy-1.14.0\n",
      "Found existing installation: scikit-learn 1.0.2\n",
      "Uninstalling scikit-learn-1.0.2:\n",
      "  Successfully uninstalled scikit-learn-1.0.2\n"
     ]
    }
   ],
   "source": [
    "!pip uninstall numpy seaborn matplotlib statsmodels pandas scipy scikit_learn -y"
   ]
  },
  {
   "cell_type": "code",
   "execution_count": 4,
   "metadata": {},
   "outputs": [
    {
     "name": "stdout",
     "output_type": "stream",
     "text": [
      "Collecting numpy\n",
      "  Using cached numpy-2.0.1-cp310-cp310-manylinux_2_17_x86_64.manylinux2014_x86_64.whl (19.5 MB)\n",
      "Installing collected packages: numpy\n",
      "Successfully installed numpy-2.0.1\n",
      "Note: you may need to restart the kernel to use updated packages.\n",
      "Collecting seaborn\n",
      "  Downloading seaborn-0.13.2-py3-none-any.whl (294 kB)\n",
      "\u001b[2K     \u001b[38;2;114;156;31m━━━━━━━━━━━━━━━━━━━━━━━━━━━━━━━━━━━━━━━\u001b[0m \u001b[32m294.9/294.9 KB\u001b[0m \u001b[31m1.4 MB/s\u001b[0m eta \u001b[36m0:00:00\u001b[0m MB/s\u001b[0m eta \u001b[36m0:00:01\u001b[0m:01\u001b[0m\n",
      "\u001b[?25hRequirement already satisfied: numpy!=1.24.0,>=1.20 in ./myenv/lib/python3.10/site-packages (from seaborn) (2.0.1)\n",
      "Collecting pandas>=1.2\n",
      "  Using cached pandas-2.2.2-cp310-cp310-manylinux_2_17_x86_64.manylinux2014_x86_64.whl (13.0 MB)\n",
      "Collecting matplotlib!=3.6.1,>=3.4\n",
      "  Using cached matplotlib-3.9.1-cp310-cp310-manylinux_2_17_x86_64.manylinux2014_x86_64.whl (8.3 MB)\n",
      "Requirement already satisfied: kiwisolver>=1.3.1 in ./myenv/lib/python3.10/site-packages (from matplotlib!=3.6.1,>=3.4->seaborn) (1.4.5)\n",
      "Requirement already satisfied: cycler>=0.10 in ./myenv/lib/python3.10/site-packages (from matplotlib!=3.6.1,>=3.4->seaborn) (0.12.1)\n",
      "Requirement already satisfied: fonttools>=4.22.0 in ./myenv/lib/python3.10/site-packages (from matplotlib!=3.6.1,>=3.4->seaborn) (4.53.1)\n",
      "Requirement already satisfied: pyparsing>=2.3.1 in ./myenv/lib/python3.10/site-packages (from matplotlib!=3.6.1,>=3.4->seaborn) (3.1.2)\n",
      "Requirement already satisfied: pillow>=8 in ./myenv/lib/python3.10/site-packages (from matplotlib!=3.6.1,>=3.4->seaborn) (10.4.0)\n",
      "Requirement already satisfied: contourpy>=1.0.1 in ./myenv/lib/python3.10/site-packages (from matplotlib!=3.6.1,>=3.4->seaborn) (1.2.1)\n",
      "Requirement already satisfied: packaging>=20.0 in ./myenv/lib/python3.10/site-packages (from matplotlib!=3.6.1,>=3.4->seaborn) (24.1)\n",
      "Requirement already satisfied: python-dateutil>=2.7 in ./myenv/lib/python3.10/site-packages (from matplotlib!=3.6.1,>=3.4->seaborn) (2.9.0.post0)\n",
      "Requirement already satisfied: pytz>=2020.1 in ./myenv/lib/python3.10/site-packages (from pandas>=1.2->seaborn) (2024.1)\n",
      "Requirement already satisfied: tzdata>=2022.7 in ./myenv/lib/python3.10/site-packages (from pandas>=1.2->seaborn) (2024.1)\n",
      "Requirement already satisfied: six>=1.5 in ./myenv/lib/python3.10/site-packages (from python-dateutil>=2.7->matplotlib!=3.6.1,>=3.4->seaborn) (1.16.0)\n",
      "Installing collected packages: pandas, matplotlib, seaborn\n",
      "Successfully installed matplotlib-3.9.1 pandas-2.2.2 seaborn-0.13.2\n",
      "Note: you may need to restart the kernel to use updated packages.\n",
      "Requirement already satisfied: matplotlib in ./myenv/lib/python3.10/site-packages (3.9.1)\n",
      "Requirement already satisfied: kiwisolver>=1.3.1 in ./myenv/lib/python3.10/site-packages (from matplotlib) (1.4.5)\n",
      "Requirement already satisfied: python-dateutil>=2.7 in ./myenv/lib/python3.10/site-packages (from matplotlib) (2.9.0.post0)\n",
      "Requirement already satisfied: packaging>=20.0 in ./myenv/lib/python3.10/site-packages (from matplotlib) (24.1)\n",
      "Requirement already satisfied: pillow>=8 in ./myenv/lib/python3.10/site-packages (from matplotlib) (10.4.0)\n",
      "Requirement already satisfied: contourpy>=1.0.1 in ./myenv/lib/python3.10/site-packages (from matplotlib) (1.2.1)\n",
      "Requirement already satisfied: cycler>=0.10 in ./myenv/lib/python3.10/site-packages (from matplotlib) (0.12.1)\n",
      "Requirement already satisfied: numpy>=1.23 in ./myenv/lib/python3.10/site-packages (from matplotlib) (2.0.1)\n",
      "Requirement already satisfied: fonttools>=4.22.0 in ./myenv/lib/python3.10/site-packages (from matplotlib) (4.53.1)\n",
      "Requirement already satisfied: pyparsing>=2.3.1 in ./myenv/lib/python3.10/site-packages (from matplotlib) (3.1.2)\n",
      "Requirement already satisfied: six>=1.5 in ./myenv/lib/python3.10/site-packages (from python-dateutil>=2.7->matplotlib) (1.16.0)\n",
      "Note: you may need to restart the kernel to use updated packages.\n",
      "Collecting statsmodels\n",
      "  Using cached statsmodels-0.14.2-cp310-cp310-manylinux_2_17_x86_64.manylinux2014_x86_64.whl (10.8 MB)\n",
      "Requirement already satisfied: pandas!=2.1.0,>=1.4 in ./myenv/lib/python3.10/site-packages (from statsmodels) (2.2.2)\n",
      "Requirement already satisfied: numpy>=1.22.3 in ./myenv/lib/python3.10/site-packages (from statsmodels) (2.0.1)\n",
      "Collecting scipy!=1.9.2,>=1.8\n",
      "  Using cached scipy-1.14.0-cp310-cp310-manylinux_2_17_x86_64.manylinux2014_x86_64.whl (41.1 MB)\n",
      "Requirement already satisfied: packaging>=21.3 in ./myenv/lib/python3.10/site-packages (from statsmodels) (24.1)\n",
      "Requirement already satisfied: patsy>=0.5.6 in ./myenv/lib/python3.10/site-packages (from statsmodels) (0.5.6)\n",
      "Requirement already satisfied: tzdata>=2022.7 in ./myenv/lib/python3.10/site-packages (from pandas!=2.1.0,>=1.4->statsmodels) (2024.1)\n",
      "Requirement already satisfied: pytz>=2020.1 in ./myenv/lib/python3.10/site-packages (from pandas!=2.1.0,>=1.4->statsmodels) (2024.1)\n",
      "Requirement already satisfied: python-dateutil>=2.8.2 in ./myenv/lib/python3.10/site-packages (from pandas!=2.1.0,>=1.4->statsmodels) (2.9.0.post0)\n",
      "Requirement already satisfied: six in ./myenv/lib/python3.10/site-packages (from patsy>=0.5.6->statsmodels) (1.16.0)\n",
      "Installing collected packages: scipy, statsmodels\n",
      "Successfully installed scipy-1.14.0 statsmodels-0.14.2\n",
      "Note: you may need to restart the kernel to use updated packages.\n",
      "Requirement already satisfied: pandas in ./myenv/lib/python3.10/site-packages (2.2.2)\n",
      "Requirement already satisfied: python-dateutil>=2.8.2 in ./myenv/lib/python3.10/site-packages (from pandas) (2.9.0.post0)\n",
      "Requirement already satisfied: numpy>=1.22.4 in ./myenv/lib/python3.10/site-packages (from pandas) (2.0.1)\n",
      "Requirement already satisfied: pytz>=2020.1 in ./myenv/lib/python3.10/site-packages (from pandas) (2024.1)\n",
      "Requirement already satisfied: tzdata>=2022.7 in ./myenv/lib/python3.10/site-packages (from pandas) (2024.1)\n",
      "Requirement already satisfied: six>=1.5 in ./myenv/lib/python3.10/site-packages (from python-dateutil>=2.8.2->pandas) (1.16.0)\n",
      "Note: you may need to restart the kernel to use updated packages.\n",
      "Requirement already satisfied: scipy in ./myenv/lib/python3.10/site-packages (1.14.0)\n",
      "Requirement already satisfied: numpy<2.3,>=1.23.5 in ./myenv/lib/python3.10/site-packages (from scipy) (2.0.1)\n",
      "Note: you may need to restart the kernel to use updated packages.\n",
      "Collecting scikit_learn\n",
      "  Using cached scikit_learn-1.5.1-cp310-cp310-manylinux_2_17_x86_64.manylinux2014_x86_64.whl (13.4 MB)\n",
      "Requirement already satisfied: numpy>=1.19.5 in ./myenv/lib/python3.10/site-packages (from scikit_learn) (2.0.1)\n",
      "Requirement already satisfied: joblib>=1.2.0 in ./myenv/lib/python3.10/site-packages (from scikit_learn) (1.4.2)\n",
      "Requirement already satisfied: scipy>=1.6.0 in ./myenv/lib/python3.10/site-packages (from scikit_learn) (1.14.0)\n",
      "Requirement already satisfied: threadpoolctl>=3.1.0 in ./myenv/lib/python3.10/site-packages (from scikit_learn) (3.5.0)\n",
      "Installing collected packages: scikit_learn\n",
      "Successfully installed scikit_learn-1.5.1\n",
      "Note: you may need to restart the kernel to use updated packages.\n",
      "Requirement already satisfied: projectpro in ./myenv/lib/python3.10/site-packages (0.0.30)\n",
      "Requirement already satisfied: requests in ./myenv/lib/python3.10/site-packages (from projectpro) (2.32.3)\n",
      "Requirement already satisfied: geocoder in ./myenv/lib/python3.10/site-packages (from projectpro) (1.38.1)\n",
      "Requirement already satisfied: click in ./myenv/lib/python3.10/site-packages (from geocoder->projectpro) (8.1.7)\n",
      "Requirement already satisfied: ratelim in ./myenv/lib/python3.10/site-packages (from geocoder->projectpro) (0.1.6)\n",
      "Requirement already satisfied: six in ./myenv/lib/python3.10/site-packages (from geocoder->projectpro) (1.16.0)\n",
      "Requirement already satisfied: future in ./myenv/lib/python3.10/site-packages (from geocoder->projectpro) (1.0.0)\n",
      "Requirement already satisfied: charset-normalizer<4,>=2 in ./myenv/lib/python3.10/site-packages (from requests->projectpro) (3.3.2)\n",
      "Requirement already satisfied: certifi>=2017.4.17 in ./myenv/lib/python3.10/site-packages (from requests->projectpro) (2024.7.4)\n",
      "Requirement already satisfied: idna<4,>=2.5 in ./myenv/lib/python3.10/site-packages (from requests->projectpro) (3.7)\n",
      "Requirement already satisfied: urllib3<3,>=1.21.1 in ./myenv/lib/python3.10/site-packages (from requests->projectpro) (2.2.2)\n",
      "Requirement already satisfied: decorator in ./myenv/lib/python3.10/site-packages (from ratelim->geocoder->projectpro) (5.1.1)\n",
      "Note: you may need to restart the kernel to use updated packages.\n"
     ]
    }
   ],
   "source": [
    "# Install specific versions of packages known to be compatible\n",
    "\n",
    "%pip install numpy\n",
    "%pip install seaborn\n",
    "%pip install matplotlib\n",
    "%pip install statsmodels\n",
    "%pip install pandas     \n",
    "%pip install scipy\n",
    "%pip install scikit_learn\n",
    "%pip install projectpro --upgrade"
   ]
  },
  {
   "cell_type": "markdown",
   "metadata": {},
   "source": [
    "## Import Packages"
   ]
  },
  {
   "cell_type": "code",
   "execution_count": 14,
   "metadata": {},
   "outputs": [
    {
     "data": {
      "application/javascript": "\n        function reqListener () {\n\n        var ipResponse = this.responseText\n        console.log(ipResponse);\n        //return ipResponse\n\n        const req2 = new XMLHttpRequest();\n        req2.addEventListener(\"load\",function(){\n\n            //  this blocks runs after req2 and prints whole data    \n        //console.log(typeof(this.responseText));\n        //console.log(JSON.stringify(this.responseText));\n        IPython.notebook.kernel.execute(\n                \"json_obj = \" + JSON.stringify(this.responseText)\n                );\n        //document.querySelector(\"#output-area\").appendChild(document.createTextNode(JSON.stringify(this.responseText)));\n        var command= \"json_obj2 = \" + JSON.stringify(this.responseText)\n        var kernel = IPython.notebook.kernel;\n        kernel.execute(command);\n        var j_obj=JSON.parse(this.responseText)[\"ip\"]+\"|\"+cell_idx;\n        console.log(j_obj)\n        var jj=JSON.stringify(this.responseText);\n        kernel.execute(\"import projectpro\");\n        kernel.execute(\"projectpro.call_me('\" + j_obj + \"')\");\n        return JSON.parse(this.responseText)\n\n\n        });\n        req2.open(\"GET\", \"https://ipapi.co/\"+JSON.parse(ipResponse).ip+\"/json/\");\n        req2.send();\n\n\n        }\n\n        //var kernel = IPython.notebook.kernel;\n        //var j_obj=\"6.9.6.9\";\n        //kernel.execute(\"import javaRun\");\n        //kernel.execute(\"javaRun.call_me('\" + j_obj + \"')\");\n\n        var output_area = this;\n        // find my cell element\n        var cell_element = output_area.element.parents('.cell');\n        // which cell is it?\n        var cell_idx = Jupyter.notebook.get_cell_elements().index(cell_element);\n        console.log(cell_idx)\n\n        const req = new XMLHttpRequest();\n        req.addEventListener(\"load\", reqListener);\n        req.open(\"GET\", \"https://api64.ipify.org?format=json\");\n        req.send();\n        ",
      "text/plain": [
       "<IPython.core.display.Javascript object>"
      ]
     },
     "metadata": {},
     "output_type": "display_data"
    }
   ],
   "source": [
    "#import required packages\n",
    "\n",
    "import pandas as pd\n",
    "import numpy as np\n",
    "import matplotlib.pyplot as plt\n",
    "from sklearn.model_selection import train_test_split\n",
    "import statsmodels.api as sm\n",
    "from scipy import stats\n",
    "import seaborn as sns\n",
    "import scipy\n",
    "from matplotlib.pyplot import figure\n",
    "import projectpro\n",
    "projectpro.checkpoint('038932')"
   ]
  }
 ],
 "metadata": {
  "kernelspec": {
   "display_name": "Python 3 (ipykernel)",
   "language": "python",
   "name": "python3"
  },
  "language_info": {
   "codemirror_mode": {
    "name": "ipython",
    "version": 3
   },
   "file_extension": ".py",
   "mimetype": "text/x-python",
   "name": "python",
   "nbconvert_exporter": "python",
   "pygments_lexer": "ipython3",
   "version": "3.10.12"
  }
 },
 "nbformat": 4,
 "nbformat_minor": 2
}
